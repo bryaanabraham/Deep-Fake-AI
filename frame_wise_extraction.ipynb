{
  "nbformat": 4,
  "nbformat_minor": 0,
  "metadata": {
    "colab": {
      "provenance": [],
      "authorship_tag": "ABX9TyN5kJk7wkQbl4+jPbDDX1cX",
      "include_colab_link": true
    },
    "kernelspec": {
      "name": "python3",
      "display_name": "Python 3"
    },
    "language_info": {
      "name": "python"
    }
  },
  "cells": [
    {
      "cell_type": "markdown",
      "metadata": {
        "id": "view-in-github",
        "colab_type": "text"
      },
      "source": [
        "<a href=\"https://colab.research.google.com/github/bryaanabraham/Deep-Fake-AI/blob/main/frame_wise_extraction.ipynb\" target=\"_parent\"><img src=\"https://colab.research.google.com/assets/colab-badge.svg\" alt=\"Open In Colab\"/></a>"
      ]
    },
    {
      "cell_type": "code",
      "source": [
        "!pip install opencv-python-headless\n",
        "!pip install zipfile36"
      ],
      "metadata": {
        "colab": {
          "base_uri": "https://localhost:8080/"
        },
        "id": "RONIF0Bu_k3i",
        "outputId": "74b66582-b15e-4d2a-9f1c-14c02f2269b3"
      },
      "execution_count": 1,
      "outputs": [
        {
          "output_type": "stream",
          "name": "stdout",
          "text": [
            "Requirement already satisfied: opencv-python-headless in /usr/local/lib/python3.10/dist-packages (4.10.0.84)\n",
            "Requirement already satisfied: numpy>=1.21.2 in /usr/local/lib/python3.10/dist-packages (from opencv-python-headless) (1.26.4)\n",
            "Collecting zipfile36\n",
            "  Downloading zipfile36-0.1.3-py3-none-any.whl.metadata (736 bytes)\n",
            "Downloading zipfile36-0.1.3-py3-none-any.whl (20 kB)\n",
            "Installing collected packages: zipfile36\n",
            "Successfully installed zipfile36-0.1.3\n"
          ]
        }
      ]
    },
    {
      "cell_type": "code",
      "source": [
        "import cv2\n",
        "import os\n",
        "import zipfile\n",
        "from google.colab import files"
      ],
      "metadata": {
        "id": "H_WmVMX3_smd"
      },
      "execution_count": 15,
      "outputs": []
    },
    {
      "cell_type": "code",
      "source": [
        "def getFrames(video_path, output_dir, interval):\n",
        "  os.makedirs(output_dir, exist_ok=True)\n",
        "  cap = cv2.VideoCapture(video_path)\n",
        "\n",
        "  fps = cap.get(cv2.CAP_PROP_FPS)\n",
        "  frame_interval = int(fps * interval)\n",
        "\n",
        "  frame_count = 0\n",
        "  saved_frame_count = 0\n",
        "  while cap.isOpened():\n",
        "    ret, frame = cap.read()\n",
        "    if not ret:\n",
        "        break\n",
        "\n",
        "    if frame_count % frame_interval == 0:\n",
        "        frame_filename = os.path.join(output_dir, f'frame_{saved_frame_count:04d}.jpg')\n",
        "        cv2.imwrite(frame_filename, frame)\n",
        "        saved_frame_count += 1\n",
        "\n",
        "    frame_count += 1\n",
        "\n",
        "  cap.release()"
      ],
      "metadata": {
        "id": "6P2rHChIBOjE"
      },
      "execution_count": 16,
      "outputs": []
    },
    {
      "cell_type": "code",
      "source": [
        "def downloadFrames(output_dir,zip_filename):\n",
        "  with zipfile.ZipFile(zip_filename, 'w') as zipf:\n",
        "      for root, dirs, files_list in os.walk(output_dir):\n",
        "          for file in files_list:\n",
        "              zipf.write(os.path.join(root, file), file)\n",
        "  files.download(zip_filename)"
      ],
      "metadata": {
        "id": "yqCMEVGgBTmb"
      },
      "execution_count": 17,
      "outputs": []
    },
    {
      "cell_type": "code",
      "source": [
        "video_path = '/content/video_fake.mp4'\n",
        "output_dir = '/content/frames_fake'\n",
        "interval = 1\n",
        "zip_filename = 'frames_fake.zip'\n",
        "\n",
        "getFrames(video_path, output_dir, interval)\n",
        "downloadFrames(output_dir,zip_filename)"
      ],
      "metadata": {
        "colab": {
          "base_uri": "https://localhost:8080/",
          "height": 17
        },
        "id": "AHD0fzvn_-k0",
        "outputId": "bd3ebf85-0f0f-46ad-9f03-6e45c3002ca8"
      },
      "execution_count": 18,
      "outputs": [
        {
          "output_type": "display_data",
          "data": {
            "text/plain": [
              "<IPython.core.display.Javascript object>"
            ],
            "application/javascript": [
              "\n",
              "    async function download(id, filename, size) {\n",
              "      if (!google.colab.kernel.accessAllowed) {\n",
              "        return;\n",
              "      }\n",
              "      const div = document.createElement('div');\n",
              "      const label = document.createElement('label');\n",
              "      label.textContent = `Downloading \"${filename}\": `;\n",
              "      div.appendChild(label);\n",
              "      const progress = document.createElement('progress');\n",
              "      progress.max = size;\n",
              "      div.appendChild(progress);\n",
              "      document.body.appendChild(div);\n",
              "\n",
              "      const buffers = [];\n",
              "      let downloaded = 0;\n",
              "\n",
              "      const channel = await google.colab.kernel.comms.open(id);\n",
              "      // Send a message to notify the kernel that we're ready.\n",
              "      channel.send({})\n",
              "\n",
              "      for await (const message of channel.messages) {\n",
              "        // Send a message to notify the kernel that we're ready.\n",
              "        channel.send({})\n",
              "        if (message.buffers) {\n",
              "          for (const buffer of message.buffers) {\n",
              "            buffers.push(buffer);\n",
              "            downloaded += buffer.byteLength;\n",
              "            progress.value = downloaded;\n",
              "          }\n",
              "        }\n",
              "      }\n",
              "      const blob = new Blob(buffers, {type: 'application/binary'});\n",
              "      const a = document.createElement('a');\n",
              "      a.href = window.URL.createObjectURL(blob);\n",
              "      a.download = filename;\n",
              "      div.appendChild(a);\n",
              "      a.click();\n",
              "      div.remove();\n",
              "    }\n",
              "  "
            ]
          },
          "metadata": {}
        },
        {
          "output_type": "display_data",
          "data": {
            "text/plain": [
              "<IPython.core.display.Javascript object>"
            ],
            "application/javascript": [
              "download(\"download_d5bd765e-27c9-4612-9493-342b673e72ee\", \"frames_fake.zip\", 1878371)"
            ]
          },
          "metadata": {}
        }
      ]
    },
    {
      "cell_type": "code",
      "source": [
        "video_path = '/content/video_og.mp4'\n",
        "output_dir = '/content/frames_og'\n",
        "interval = 1\n",
        "zip_filename = 'frames_og.zip'\n",
        "\n",
        "getFrames(video_path, output_dir, interval)\n",
        "downloadFrames(output_dir,zip_filename)"
      ],
      "metadata": {
        "id": "y9uHj-2jCP7q"
      },
      "execution_count": 20,
      "outputs": []
    }
  ]
}